{
 "cells": [
  {
   "cell_type": "code",
   "execution_count": null,
   "metadata": {},
   "outputs": [],
   "source": [
    "import face_recognition as fr\n",
    "import cv2 \n",
    "import numpy as np"
   ]
  },
  {
   "cell_type": "code",
   "execution_count": 2,
   "metadata": {},
   "outputs": [],
   "source": [
    "image= fr.load_image_file('majid.jpg')"
   ]
  },
  {
   "cell_type": "code",
   "execution_count": 3,
   "metadata": {},
   "outputs": [],
   "source": [
    "locate=fr.face_locations(image)"
   ]
  },
  {
   "cell_type": "code",
   "execution_count": 4,
   "metadata": {},
   "outputs": [
    {
     "name": "stdout",
     "output_type": "stream",
     "text": [
      "(348, 705, 669, 384)\n"
     ]
    }
   ],
   "source": [
    "print(locate[0])"
   ]
  },
  {
   "cell_type": "code",
   "execution_count": 6,
   "metadata": {},
   "outputs": [],
   "source": [
    "\n",
    "image2=cv2.cvtColor(image,cv2.COLOR_RGB2BGR)\n",
    "image2=cv2.rectangle(image2,(locate[0][3],locate[0][0]),(locate[0][1],locate[0][2]),(0,255 ,0 ),5)\n",
    "\n",
    "image2=cv2.resize(image2,(192*2 , 256*2 ))\n",
    "\n",
    "cv2.imshow('image',image2)\n",
    "cv2.waitKey(0)\n",
    "cv2.destroyAllWindows()"
   ]
  },
  {
   "cell_type": "code",
   "execution_count": 19,
   "metadata": {},
   "outputs": [
    {
     "data": {
      "text/plain": [
       "960"
      ]
     },
     "execution_count": 19,
     "metadata": {},
     "output_type": "execute_result"
    }
   ],
   "source": [
    "image2.shape[1]"
   ]
  },
  {
   "cell_type": "code",
   "execution_count": 9,
   "metadata": {},
   "outputs": [],
   "source": [
    "sabt_sorat=fr.face_encodings(image)[0]"
   ]
  },
  {
   "cell_type": "code",
   "execution_count": null,
   "metadata": {},
   "outputs": [],
   "source": [
    "sabt_sorat"
   ]
  },
  {
   "cell_type": "code",
   "execution_count": 14,
   "metadata": {},
   "outputs": [],
   "source": [
    "imagetest=fr.load_image_file('majid_test.png')\n",
    "cv2.imshow('image',imagetest)\n",
    "cv2.waitKey(0)\n",
    "cv2.destroyAllWindows()"
   ]
  },
  {
   "cell_type": "code",
   "execution_count": 15,
   "metadata": {},
   "outputs": [],
   "source": [
    "imagetest_encode=fr.face_encodings(imagetest)[0]"
   ]
  },
  {
   "cell_type": "code",
   "execution_count": 16,
   "metadata": {},
   "outputs": [],
   "source": [
    "result=fr.compare_faces([sabt_sorat],imagetest_encode)"
   ]
  },
  {
   "cell_type": "code",
   "execution_count": 17,
   "metadata": {},
   "outputs": [
    {
     "name": "stdout",
     "output_type": "stream",
     "text": [
      "[True]\n"
     ]
    }
   ],
   "source": [
    "print(result)"
   ]
  },
  {
   "cell_type": "code",
   "execution_count": 24,
   "metadata": {},
   "outputs": [],
   "source": [
    "cap=cv2.VideoCapture(1)\n",
    "_,img= cap.read()\n"
   ]
  },
  {
   "cell_type": "code",
   "execution_count": 36,
   "metadata": {},
   "outputs": [],
   "source": [
    "image= fr.load_image_file('majid.jpg')\n",
    "sabt_sorat=fr.face_encodings(image)[0]"
   ]
  },
  {
   "cell_type": "code",
   "execution_count": 35,
   "metadata": {},
   "outputs": [],
   "source": [
    "image_farzan= fr.load_image_file('farzan.jpg')\n",
    "sabt_sorat2=fr.face_encodings(image_farzan)[0]"
   ]
  },
  {
   "cell_type": "code",
   "execution_count": 47,
   "metadata": {},
   "outputs": [],
   "source": [
    "cap=cv2.VideoCapture(1)\n",
    "\n",
    "\n",
    "while True:\n",
    "\n",
    "\n",
    "    _,img= cap.read()\n",
    "\n",
    "    img2=cv2.cvtColor(img,cv2.COLOR_BGR2RGB)\n",
    "    locate=fr.face_locations(img2)\n",
    "\n",
    "    if len(locate)>0: \n",
    "\n",
    "        img=cv2.rectangle(img,(locate[0][3],locate[0][0]),(locate[0][1],locate[0][2]),(0,255 ,0 ),3)\n",
    "\n",
    "        encode=fr.face_encodings(img2)\n",
    " \n",
    "        result=fr.compare_faces([sabt_sorat ,sabt_sorat2 ] , encode[0])\n",
    "\n",
    "\n",
    "        print(result)\n",
    "\n",
    "\n",
    "\n",
    "        if result[0]==True:\n",
    "            cv2.putText(img, \"Majid\", (locate[0][3] + 6, locate[0][0] - 6), cv2.FONT_HERSHEY_COMPLEX, 1.0, (0, 255, 0), 1)\n",
    "        elif result[1]==True:\n",
    "             cv2.putText(img, \"Farzan\", (locate[0][3] + 6, locate[0][0] - 6), cv2.FONT_HERSHEY_SIMPLEX, 1.0, (0, 255, 0), 1)\n",
    "\n",
    "        else: \n",
    "             cv2.putText(img, \"****\", (locate[0][3] + 6, locate[0][0] - 6), cv2.FONT_HERSHEY_SIMPLEX, 1.0, (0, 255, 0), 1)\n",
    "\n",
    "    cv2.imshow('image',img) \n",
    "    if cv2.waitKey(1) & 0xFF == ord('q'):\n",
    "        break\n",
    "\n",
    "\n",
    "cap.release()\n",
    "cv2.destroyAllWindows()"
   ]
  }
 ],
 "metadata": {
  "kernelspec": {
   "display_name": "Python 3.8.8 64-bit",
   "language": "python",
   "name": "python3"
  },
  "language_info": {
   "codemirror_mode": {
    "name": "ipython",
    "version": 3
   },
   "file_extension": ".py",
   "mimetype": "text/x-python",
   "name": "python",
   "nbconvert_exporter": "python",
   "pygments_lexer": "ipython3",
   "version": "3.8.8"
  },
  "orig_nbformat": 4,
  "vscode": {
   "interpreter": {
    "hash": "570feb405e2e27c949193ac68f46852414290d515b0ba6e5d90d076ed2284471"
   }
  }
 },
 "nbformat": 4,
 "nbformat_minor": 2
}
