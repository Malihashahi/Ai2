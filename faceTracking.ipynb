{
 "cells": [
  {
   "cell_type": "code",
   "execution_count": 6,
   "metadata": {},
   "outputs": [],
   "source": [
    "import cv2"
   ]
  },
  {
   "cell_type": "code",
   "execution_count": 7,
   "metadata": {},
   "outputs": [],
   "source": [
    "cam = cv2.VideoCapture(1)"
   ]
  },
  {
   "cell_type": "code",
   "execution_count": 9,
   "metadata": {},
   "outputs": [],
   "source": [
    "_ ,img = cam.read()"
   ]
  },
  {
   "cell_type": "code",
   "execution_count": 10,
   "metadata": {},
   "outputs": [],
   "source": [
    "cam.release()"
   ]
  },
  {
   "cell_type": "code",
   "execution_count": 21,
   "metadata": {},
   "outputs": [],
   "source": [
    "eye_model = cv2.CascadeClassifier(\"haarcascade_eye.xml\")\n",
    "face_model = cv2.CascadeClassifier(\"harrcascade_frontalface_default.xml\")"
   ]
  },
  {
   "cell_type": "code",
   "execution_count": 23,
   "metadata": {},
   "outputs": [
    {
     "ename": "AttributeError",
     "evalue": "module 'cv2' has no attribute 'COLOR_BG2BGR'",
     "output_type": "error",
     "traceback": [
      "\u001b[1;31m---------------------------------------------------------------------------\u001b[0m",
      "\u001b[1;31mAttributeError\u001b[0m                            Traceback (most recent call last)",
      "Cell \u001b[1;32mIn[23], line 6\u001b[0m\n\u001b[0;32m      3\u001b[0m \u001b[38;5;28;01mwhile\u001b[39;00m loop:\n\u001b[0;32m      5\u001b[0m     img \u001b[38;5;241m=\u001b[39m cam\u001b[38;5;241m.\u001b[39mread()\n\u001b[1;32m----> 6\u001b[0m     gray \u001b[38;5;241m=\u001b[39m cv2\u001b[38;5;241m.\u001b[39mcvtColor(img,\u001b[43mcv2\u001b[49m\u001b[38;5;241;43m.\u001b[39;49m\u001b[43mCOLOR_BG2BGR\u001b[49m)\n\u001b[0;32m      7\u001b[0m     face \u001b[38;5;241m=\u001b[39m face_model\u001b[38;5;241m.\u001b[39mdetectMultiScale(gray)\n\u001b[0;32m      9\u001b[0m     x \u001b[38;5;241m=\u001b[39mface[\u001b[38;5;241m0\u001b[39m][\u001b[38;5;241m0\u001b[39m]\n",
      "\u001b[1;31mAttributeError\u001b[0m: module 'cv2' has no attribute 'COLOR_BG2BGR'"
     ]
    }
   ],
   "source": [
    "loop = True\n",
    "cam = cv2.VideoCapture(1)\n",
    "while loop:\n",
    "    \n",
    "    img = cam.read()\n",
    "    gray = cv2.cvtColor(img,cv2.COLOR_BG2BGR)\n",
    "    face = face_model.detectMultiScale(gray)\n",
    "\n",
    "    x =face[0][0]\n",
    "    y = face[0][1]\n",
    "    x2 = x+ face[0][2]\n",
    "    y2 =  y+ face[0][3]\n",
    "    gray_face = gray[y:y2, x:x2]\n",
    "    eye = face_model.detectMultiScale(gray_face, minSize=(30,30),scaleFactor=1.1,minNeighbors=5)\n",
    "    imgout = img.copy()\n",
    "\n",
    "\n",
    "out = cv2.rectangle(imgout,(x,y),(x2,y2),(0,255,0),3)\n",
    "ic =0\n",
    "for (xe , ye, w, h ) in eye:\n",
    "    ic = ic +1\n",
    "    cv2.rectangle(imgout,(xe +x ,ye+y),(xe+w+x ,ye+h+y),(0,0,255),2)\n",
    "    if ic == 2:\n",
    "        break\n",
    "    \n",
    "cv2.imshow('nima',out)\n",
    "\n",
    " \n",
    "if  cv2.waitKey(1) == ord ('q'):\n",
    "     loop = False\n",
    "     cv2.destroyAllWindows()\n",
    "     cam.release()\n",
    "\n",
    "\n"
   ]
  }
 ],
 "metadata": {
  "kernelspec": {
   "display_name": "Python 3",
   "language": "python",
   "name": "python3"
  },
  "language_info": {
   "codemirror_mode": {
    "name": "ipython",
    "version": 3
   },
   "file_extension": ".py",
   "mimetype": "text/x-python",
   "name": "python",
   "nbconvert_exporter": "python",
   "pygments_lexer": "ipython3",
   "version": "3.8.8"
  }
 },
 "nbformat": 4,
 "nbformat_minor": 2
}
