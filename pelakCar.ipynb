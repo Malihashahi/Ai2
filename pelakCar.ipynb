{
 "cells": [
  {
   "cell_type": "code",
   "execution_count": 1,
   "metadata": {},
   "outputs": [],
   "source": [
    "import cv2\n",
    "import os\n",
    "import numpy as np\n",
    "import matplotlib.pyplot as plt\n",
    "%matplotlib inline\n"
   ]
  },
  {
   "cell_type": "code",
   "execution_count": 2,
   "metadata": {},
   "outputs": [],
   "source": [
    "im = cv2.imread('pelak/1/1 (1).jpg')"
   ]
  },
  {
   "cell_type": "code",
   "execution_count": 3,
   "metadata": {},
   "outputs": [],
   "source": [
    "cv2.imshow('photo',im)\n",
    "cv2.waitKey(0)\n",
    "cv2.destroyAllWindows()"
   ]
  },
  {
   "cell_type": "code",
   "execution_count": 4,
   "metadata": {},
   "outputs": [],
   "source": [
    "im = cv2.imread('pelak/2/2 (1).jpg')"
   ]
  },
  {
   "cell_type": "code",
   "execution_count": 5,
   "metadata": {},
   "outputs": [],
   "source": [
    "files = os.listdir('pelak/1')"
   ]
  },
  {
   "cell_type": "code",
   "execution_count": 6,
   "metadata": {},
   "outputs": [],
   "source": [
    "im2 = cv2.resize(im,(8,32))"
   ]
  },
  {
   "cell_type": "code",
   "execution_count": 7,
   "metadata": {},
   "outputs": [],
   "source": [
    "im3 = cv2.cvtColor(im2 , cv2.COLOR_BGR2GRAY)"
   ]
  },
  {
   "cell_type": "code",
   "execution_count": 8,
   "metadata": {},
   "outputs": [
    {
     "data": {
      "text/plain": [
       "(32, 8)"
      ]
     },
     "execution_count": 8,
     "metadata": {},
     "output_type": "execute_result"
    }
   ],
   "source": [
    "im3.shape"
   ]
  },
  {
   "cell_type": "code",
   "execution_count": 9,
   "metadata": {},
   "outputs": [],
   "source": [
    "im4 = im3.flatten()"
   ]
  },
  {
   "cell_type": "code",
   "execution_count": 10,
   "metadata": {},
   "outputs": [],
   "source": [
    "im5 = im4.reshape(32,8)"
   ]
  },
  {
   "cell_type": "code",
   "execution_count": 11,
   "metadata": {},
   "outputs": [],
   "source": [
    "files = os.listdir('pelak/1')\n",
    "x = np.empty((0,256))\n",
    "y = np.array([])\n",
    "for filename in files:\n",
    "    im = cv2.imread('pelak/1/' + filename)\n",
    "    im2 = cv2.resize(im,(8,32))\n",
    "    im3 = cv2.cvtColor(im2 , cv2.COLOR_BGR2GRAY)\n",
    "    im4 = im3.flatten()\n",
    "    x = np.append(x,[im4], axis=0)\n",
    "    y = np.append(y,1)"
   ]
  },
  {
   "cell_type": "code",
   "execution_count": 12,
   "metadata": {},
   "outputs": [],
   "source": [
    "files = os.listdir('pelak/2')\n",
    "\n",
    "for filename in files:\n",
    "    im = cv2.imread('pelak/2/' + filename)\n",
    "    im2 = cv2.resize(im,(8,32))\n",
    "    im3 = cv2.cvtColor(im2 , cv2.COLOR_BGR2GRAY)\n",
    "    im4 = im3.flatten()\n",
    "    x = np.append(x,[im4], axis=0)\n",
    "    y = np.append(y,2)"
   ]
  },
  {
   "cell_type": "code",
   "execution_count": 41,
   "metadata": {},
   "outputs": [],
   "source": [
    "\n",
    "x = np.empty((0,256))\n",
    "y = np.array([])\n",
    "\n",
    "for k in range(1,10):\n",
    "    files = os.listdir(str(k))\n",
    "    for filename in files:\n",
    "        im = cv2.imread(str(k) +'/' + filename)\n",
    "        im2 = cv2.resize(im,(8,32))\n",
    "        im3 = cv2.cvtColor(im2 , cv2.COLOR_BGR2GRAY)\n",
    "        im4 = im3.flatten()\n",
    "        x = np.append(x,[im4], axis=0)\n",
    "        y = np.append(y,k)\n",
    "     \n",
    "\n",
    "\n"
   ]
  },
  {
   "cell_type": "code",
   "execution_count": 42,
   "metadata": {},
   "outputs": [
    {
     "data": {
      "text/plain": [
       "(3101,)"
      ]
     },
     "execution_count": 42,
     "metadata": {},
     "output_type": "execute_result"
    }
   ],
   "source": [
    "y.shape"
   ]
  },
  {
   "cell_type": "code",
   "execution_count": 43,
   "metadata": {},
   "outputs": [],
   "source": [
    "from sklearn  import linear_model\n",
    "from sklearn.model_selection import train_test_split"
   ]
  },
  {
   "cell_type": "code",
   "execution_count": 44,
   "metadata": {},
   "outputs": [],
   "source": [
    "X_train ,X_test ,y_train , y_test =train_test_split(x ,y ,test_size = 0.2)\n"
   ]
  },
  {
   "cell_type": "code",
   "execution_count": 45,
   "metadata": {},
   "outputs": [],
   "source": [
    "model = linear_model.LogisticRegression()"
   ]
  },
  {
   "cell_type": "code",
   "execution_count": 46,
   "metadata": {},
   "outputs": [
    {
     "name": "stderr",
     "output_type": "stream",
     "text": [
      "C:\\Users\\p\\AppData\\Roaming\\Python\\Python38\\site-packages\\sklearn\\linear_model\\_logistic.py:460: ConvergenceWarning: lbfgs failed to converge (status=1):\n",
      "STOP: TOTAL NO. of ITERATIONS REACHED LIMIT.\n",
      "\n",
      "Increase the number of iterations (max_iter) or scale the data as shown in:\n",
      "    https://scikit-learn.org/stable/modules/preprocessing.html\n",
      "Please also refer to the documentation for alternative solver options:\n",
      "    https://scikit-learn.org/stable/modules/linear_model.html#logistic-regression\n",
      "  n_iter_i = _check_optimize_result(\n"
     ]
    },
    {
     "data": {
      "text/html": [
       "<style>#sk-container-id-2 {color: black;}#sk-container-id-2 pre{padding: 0;}#sk-container-id-2 div.sk-toggleable {background-color: white;}#sk-container-id-2 label.sk-toggleable__label {cursor: pointer;display: block;width: 100%;margin-bottom: 0;padding: 0.3em;box-sizing: border-box;text-align: center;}#sk-container-id-2 label.sk-toggleable__label-arrow:before {content: \"▸\";float: left;margin-right: 0.25em;color: #696969;}#sk-container-id-2 label.sk-toggleable__label-arrow:hover:before {color: black;}#sk-container-id-2 div.sk-estimator:hover label.sk-toggleable__label-arrow:before {color: black;}#sk-container-id-2 div.sk-toggleable__content {max-height: 0;max-width: 0;overflow: hidden;text-align: left;background-color: #f0f8ff;}#sk-container-id-2 div.sk-toggleable__content pre {margin: 0.2em;color: black;border-radius: 0.25em;background-color: #f0f8ff;}#sk-container-id-2 input.sk-toggleable__control:checked~div.sk-toggleable__content {max-height: 200px;max-width: 100%;overflow: auto;}#sk-container-id-2 input.sk-toggleable__control:checked~label.sk-toggleable__label-arrow:before {content: \"▾\";}#sk-container-id-2 div.sk-estimator input.sk-toggleable__control:checked~label.sk-toggleable__label {background-color: #d4ebff;}#sk-container-id-2 div.sk-label input.sk-toggleable__control:checked~label.sk-toggleable__label {background-color: #d4ebff;}#sk-container-id-2 input.sk-hidden--visually {border: 0;clip: rect(1px 1px 1px 1px);clip: rect(1px, 1px, 1px, 1px);height: 1px;margin: -1px;overflow: hidden;padding: 0;position: absolute;width: 1px;}#sk-container-id-2 div.sk-estimator {font-family: monospace;background-color: #f0f8ff;border: 1px dotted black;border-radius: 0.25em;box-sizing: border-box;margin-bottom: 0.5em;}#sk-container-id-2 div.sk-estimator:hover {background-color: #d4ebff;}#sk-container-id-2 div.sk-parallel-item::after {content: \"\";width: 100%;border-bottom: 1px solid gray;flex-grow: 1;}#sk-container-id-2 div.sk-label:hover label.sk-toggleable__label {background-color: #d4ebff;}#sk-container-id-2 div.sk-serial::before {content: \"\";position: absolute;border-left: 1px solid gray;box-sizing: border-box;top: 0;bottom: 0;left: 50%;z-index: 0;}#sk-container-id-2 div.sk-serial {display: flex;flex-direction: column;align-items: center;background-color: white;padding-right: 0.2em;padding-left: 0.2em;position: relative;}#sk-container-id-2 div.sk-item {position: relative;z-index: 1;}#sk-container-id-2 div.sk-parallel {display: flex;align-items: stretch;justify-content: center;background-color: white;position: relative;}#sk-container-id-2 div.sk-item::before, #sk-container-id-2 div.sk-parallel-item::before {content: \"\";position: absolute;border-left: 1px solid gray;box-sizing: border-box;top: 0;bottom: 0;left: 50%;z-index: -1;}#sk-container-id-2 div.sk-parallel-item {display: flex;flex-direction: column;z-index: 1;position: relative;background-color: white;}#sk-container-id-2 div.sk-parallel-item:first-child::after {align-self: flex-end;width: 50%;}#sk-container-id-2 div.sk-parallel-item:last-child::after {align-self: flex-start;width: 50%;}#sk-container-id-2 div.sk-parallel-item:only-child::after {width: 0;}#sk-container-id-2 div.sk-dashed-wrapped {border: 1px dashed gray;margin: 0 0.4em 0.5em 0.4em;box-sizing: border-box;padding-bottom: 0.4em;background-color: white;}#sk-container-id-2 div.sk-label label {font-family: monospace;font-weight: bold;display: inline-block;line-height: 1.2em;}#sk-container-id-2 div.sk-label-container {text-align: center;}#sk-container-id-2 div.sk-container {/* jupyter's `normalize.less` sets `[hidden] { display: none; }` but bootstrap.min.css set `[hidden] { display: none !important; }` so we also need the `!important` here to be able to override the default hidden behavior on the sphinx rendered scikit-learn.org. See: https://github.com/scikit-learn/scikit-learn/issues/21755 */display: inline-block !important;position: relative;}#sk-container-id-2 div.sk-text-repr-fallback {display: none;}</style><div id=\"sk-container-id-2\" class=\"sk-top-container\"><div class=\"sk-text-repr-fallback\"><pre>LogisticRegression()</pre><b>In a Jupyter environment, please rerun this cell to show the HTML representation or trust the notebook. <br />On GitHub, the HTML representation is unable to render, please try loading this page with nbviewer.org.</b></div><div class=\"sk-container\" hidden><div class=\"sk-item\"><div class=\"sk-estimator sk-toggleable\"><input class=\"sk-toggleable__control sk-hidden--visually\" id=\"sk-estimator-id-2\" type=\"checkbox\" checked><label for=\"sk-estimator-id-2\" class=\"sk-toggleable__label sk-toggleable__label-arrow\">LogisticRegression</label><div class=\"sk-toggleable__content\"><pre>LogisticRegression()</pre></div></div></div></div></div>"
      ],
      "text/plain": [
       "LogisticRegression()"
      ]
     },
     "execution_count": 46,
     "metadata": {},
     "output_type": "execute_result"
    }
   ],
   "source": [
    "\n",
    "model.fit(X_train,y_train)"
   ]
  },
  {
   "cell_type": "code",
   "execution_count": 47,
   "metadata": {},
   "outputs": [],
   "source": [
    "out = model.predict(X_test)"
   ]
  },
  {
   "cell_type": "code",
   "execution_count": 48,
   "metadata": {},
   "outputs": [
    {
     "data": {
      "text/plain": [
       "array([6., 8., 2., 9., 3., 9., 1., 8., 5., 9., 5., 1., 2., 9., 2., 5., 1.,\n",
       "       2., 2., 1., 6., 3., 6., 3., 4., 5., 9., 9., 8., 3., 2., 4., 2., 7.,\n",
       "       7., 9., 3., 6., 5., 8., 5., 6., 7., 1., 1., 9., 8., 9., 2., 3., 7.,\n",
       "       4., 9., 3., 2., 8., 9., 6., 5., 2., 1., 6., 4., 5., 2., 7., 4., 2.,\n",
       "       9., 7., 7., 8., 1., 6., 1., 8., 2., 5., 3., 4., 8., 8., 5., 2., 6.,\n",
       "       3., 1., 9., 2., 1., 7., 4., 6., 3., 9., 2., 4., 8., 3., 6., 9., 3.,\n",
       "       4., 4., 9., 5., 3., 7., 4., 8., 3., 2., 8., 6., 3., 6., 2., 1., 5.,\n",
       "       2., 9., 6., 2., 1., 4., 8., 5., 5., 1., 4., 6., 4., 9., 2., 9., 9.,\n",
       "       5., 1., 5., 5., 6., 4., 4., 7., 2., 8., 6., 6., 8., 4., 4., 3., 9.,\n",
       "       1., 1., 5., 7., 6., 8., 4., 3., 9., 9., 7., 4., 8., 2., 4., 4., 8.,\n",
       "       9., 1., 7., 7., 6., 2., 3., 4., 5., 1., 1., 6., 8., 8., 1., 1., 1.,\n",
       "       6., 4., 7., 8., 3., 3., 9., 1., 7., 2., 8., 7., 8., 4., 6., 5., 6.,\n",
       "       8., 5., 6., 6., 1., 7., 9., 9., 6., 7., 9., 1., 9., 5., 9., 3., 4.,\n",
       "       1., 3., 5., 9., 1., 7., 8., 2., 9., 4., 6., 6., 2., 2., 9., 9., 4.,\n",
       "       9., 6., 4., 6., 4., 6., 1., 8., 3., 6., 1., 6., 5., 6., 5., 4., 5.,\n",
       "       7., 7., 8., 3., 8., 3., 5., 8., 9., 2., 1., 2., 3., 6., 5., 4., 2.,\n",
       "       1., 8., 6., 7., 5., 7., 7., 8., 7., 7., 3., 2., 2., 4., 7., 6., 1.,\n",
       "       9., 5., 1., 2., 2., 2., 4., 2., 2., 2., 2., 7., 1., 9., 5., 8., 5.,\n",
       "       2., 2., 5., 8., 8., 3., 9., 9., 1., 8., 9., 1., 1., 9., 4., 3., 3.,\n",
       "       1., 8., 9., 2., 1., 8., 5., 8., 5., 2., 6., 4., 1., 2., 2., 2., 2.,\n",
       "       3., 6., 7., 7., 3., 2., 3., 2., 5., 9., 3., 4., 3., 6., 5., 8., 4.,\n",
       "       9., 7., 9., 5., 1., 7., 6., 7., 5., 3., 8., 9., 1., 8., 6., 2., 4.,\n",
       "       3., 9., 8., 9., 9., 2., 1., 8., 1., 9., 1., 1., 8., 5., 8., 9., 4.,\n",
       "       2., 8., 8., 6., 4., 1., 4., 1., 6., 2., 9., 4., 1., 8., 3., 6., 6.,\n",
       "       2., 8., 8., 5., 9., 4., 1., 6., 9., 8., 7., 7., 4., 7., 2., 2., 2.,\n",
       "       1., 5., 3., 5., 7., 5., 3., 1., 2., 2., 6., 7., 1., 3., 6., 4., 3.,\n",
       "       1., 2., 6., 8., 1., 7., 5., 3., 9., 2., 8., 8., 1., 2., 3., 4., 2.,\n",
       "       6., 9., 9., 9., 4., 8., 3., 2., 9., 4., 4., 4., 7., 1., 5., 2., 7.,\n",
       "       5., 2., 5., 7., 2., 1., 6., 5., 6., 1., 4., 3., 2., 3., 9., 9., 2.,\n",
       "       4., 3., 1., 5., 7., 8., 4., 5., 7., 7., 7., 9., 6., 3., 9., 5., 6.,\n",
       "       3., 8., 3., 4., 8., 1., 6., 7., 7., 8., 4., 7., 2., 3., 6., 3., 8.,\n",
       "       7., 5., 3., 6., 6., 1., 1., 9., 7., 8., 4., 4., 2., 1., 5., 5., 5.,\n",
       "       9., 3., 1., 6., 5., 3., 1., 7., 3., 9., 2., 9., 7., 3., 2., 4., 2.,\n",
       "       3., 2., 2., 6., 4., 7., 1., 5., 5., 2., 4., 6., 4., 7., 8., 8., 8.,\n",
       "       1., 5., 5., 8., 5., 2., 3., 9., 9., 1., 2., 1., 5., 9., 9., 8., 8.,\n",
       "       4., 6., 8., 8., 3., 7., 4., 4., 1., 9., 6., 5., 4., 2., 4., 3., 6.,\n",
       "       5., 2., 1., 1., 8., 9., 8., 4., 5.])"
      ]
     },
     "execution_count": 48,
     "metadata": {},
     "output_type": "execute_result"
    }
   ],
   "source": [
    "out"
   ]
  },
  {
   "cell_type": "code",
   "execution_count": 49,
   "metadata": {},
   "outputs": [
    {
     "data": {
      "text/plain": [
       "array([6., 8., 2., 9., 6., 9., 1., 8., 5., 9., 5., 1., 2., 9., 2., 5., 1.,\n",
       "       2., 2., 1., 6., 3., 6., 3., 4., 5., 9., 9., 5., 3., 2., 4., 2., 7.,\n",
       "       7., 9., 3., 6., 5., 8., 5., 6., 7., 1., 1., 9., 8., 9., 2., 2., 7.,\n",
       "       4., 9., 4., 2., 8., 9., 6., 5., 2., 1., 6., 4., 5., 2., 7., 4., 2.,\n",
       "       9., 7., 7., 8., 1., 6., 1., 9., 2., 5., 3., 4., 8., 8., 5., 2., 6.,\n",
       "       3., 1., 9., 2., 1., 7., 4., 6., 3., 9., 3., 4., 8., 3., 1., 9., 3.,\n",
       "       4., 4., 9., 5., 3., 7., 4., 8., 3., 2., 8., 6., 3., 4., 2., 1., 5.,\n",
       "       2., 9., 2., 2., 1., 4., 8., 5., 5., 1., 4., 9., 4., 9., 2., 9., 9.,\n",
       "       5., 1., 5., 5., 6., 4., 4., 7., 2., 8., 6., 6., 8., 4., 4., 3., 9.,\n",
       "       1., 1., 5., 7., 6., 8., 4., 1., 3., 9., 7., 4., 8., 2., 4., 4., 3.,\n",
       "       9., 1., 7., 7., 6., 2., 9., 4., 5., 1., 1., 6., 8., 8., 1., 1., 1.,\n",
       "       6., 4., 7., 8., 3., 3., 6., 1., 7., 2., 8., 7., 8., 4., 6., 5., 6.,\n",
       "       8., 5., 6., 6., 1., 7., 9., 9., 6., 7., 9., 1., 9., 5., 9., 3., 4.,\n",
       "       1., 3., 5., 9., 1., 7., 8., 2., 9., 4., 8., 6., 2., 2., 9., 9., 3.,\n",
       "       9., 6., 4., 6., 4., 6., 1., 8., 3., 6., 1., 6., 5., 6., 5., 3., 5.,\n",
       "       7., 7., 8., 3., 8., 3., 1., 8., 9., 2., 1., 2., 3., 6., 5., 4., 2.,\n",
       "       1., 8., 6., 7., 5., 7., 7., 8., 7., 7., 3., 2., 2., 4., 2., 6., 1.,\n",
       "       9., 5., 1., 2., 2., 2., 4., 2., 2., 2., 2., 7., 1., 9., 5., 8., 5.,\n",
       "       2., 2., 8., 8., 8., 3., 9., 9., 1., 8., 9., 1., 7., 9., 4., 3., 3.,\n",
       "       1., 8., 9., 2., 1., 8., 5., 4., 5., 2., 6., 4., 1., 2., 2., 2., 2.,\n",
       "       3., 6., 7., 7., 3., 2., 3., 2., 5., 9., 3., 4., 3., 6., 5., 8., 4.,\n",
       "       9., 7., 9., 5., 1., 7., 6., 7., 5., 3., 8., 9., 1., 6., 6., 2., 4.,\n",
       "       9., 3., 8., 9., 9., 2., 1., 8., 1., 9., 1., 1., 8., 5., 8., 9., 4.,\n",
       "       2., 9., 8., 6., 4., 1., 4., 1., 6., 2., 9., 3., 1., 8., 3., 1., 6.,\n",
       "       7., 8., 8., 5., 9., 4., 1., 6., 9., 8., 7., 7., 4., 7., 2., 2., 2.,\n",
       "       1., 5., 3., 5., 7., 5., 3., 5., 4., 2., 6., 7., 1., 3., 4., 4., 3.,\n",
       "       1., 5., 6., 6., 1., 7., 2., 3., 9., 2., 8., 8., 1., 2., 3., 4., 2.,\n",
       "       6., 9., 9., 9., 3., 8., 3., 2., 9., 4., 4., 4., 7., 1., 5., 2., 7.,\n",
       "       5., 2., 5., 7., 6., 1., 6., 5., 6., 1., 3., 3., 2., 3., 9., 9., 2.,\n",
       "       4., 3., 1., 5., 3., 8., 8., 5., 9., 7., 7., 9., 6., 3., 9., 5., 6.,\n",
       "       3., 8., 7., 4., 8., 1., 6., 7., 7., 8., 6., 7., 2., 3., 7., 3., 8.,\n",
       "       7., 5., 3., 6., 6., 1., 1., 9., 7., 8., 4., 4., 2., 1., 5., 5., 5.,\n",
       "       9., 3., 1., 6., 5., 3., 2., 9., 3., 9., 2., 9., 7., 3., 2., 4., 2.,\n",
       "       1., 3., 2., 6., 4., 7., 1., 5., 5., 4., 4., 6., 4., 7., 8., 8., 8.,\n",
       "       1., 5., 5., 8., 1., 2., 3., 9., 9., 1., 2., 1., 5., 9., 9., 8., 6.,\n",
       "       4., 6., 8., 6., 4., 9., 3., 4., 1., 9., 6., 5., 4., 2., 4., 3., 6.,\n",
       "       5., 6., 1., 1., 8., 9., 8., 4., 5.])"
      ]
     },
     "execution_count": 49,
     "metadata": {},
     "output_type": "execute_result"
    }
   ],
   "source": [
    "y_test"
   ]
  },
  {
   "cell_type": "code",
   "execution_count": 20,
   "metadata": {},
   "outputs": [],
   "source": [
    "x1 = np.empty((0,256))\n",
    "im = cv2.imread('pelak/1/1 (154).jpg' )\n",
    "im2 = cv2.resize(im,(8,32))\n",
    "im3 = cv2.cvtColor(im2 , cv2.COLOR_BGR2GRAY)\n",
    "im4 = im3.flatten()\n",
    "x1 = np.append(x1,[im4], axis=0)\n"
   ]
  },
  {
   "cell_type": "code",
   "execution_count": 21,
   "metadata": {},
   "outputs": [],
   "source": [
    "natije = model.predict(x1)"
   ]
  },
  {
   "cell_type": "code",
   "execution_count": 22,
   "metadata": {},
   "outputs": [
    {
     "data": {
      "text/plain": [
       "array([1.])"
      ]
     },
     "execution_count": 22,
     "metadata": {},
     "output_type": "execute_result"
    }
   ],
   "source": [
    "natije"
   ]
  },
  {
   "cell_type": "code",
   "execution_count": 51,
   "metadata": {},
   "outputs": [],
   "source": [
    "img_plak = cv2.imread('pelak.png')\n",
    "ret , img_plak = cv2.threshold(img_plak ,127,255,cv2.THRESH_TOZERO)"
   ]
  },
  {
   "cell_type": "code",
   "execution_count": 24,
   "metadata": {},
   "outputs": [],
   "source": [
    "img_plak0 = cv2.imread('pelak.png',0)"
   ]
  },
  {
   "cell_type": "code",
   "execution_count": 58,
   "metadata": {},
   "outputs": [],
   "source": [
    "\n",
    "img_plak = cv2.imread('pelak.png')\n",
    "\n",
    "ret,img_plak =  cv2.threshold(img_plak,10,255,cv2.THRESH_TOZERO)\n",
    "cv2.imshow('photo',img_plak)\n",
    "cv2.waitKey(0)\n",
    "cv2.destroyAllWindows()"
   ]
  },
  {
   "cell_type": "code",
   "execution_count": 26,
   "metadata": {},
   "outputs": [
    {
     "data": {
      "text/plain": [
       "(411,)"
      ]
     },
     "execution_count": 26,
     "metadata": {},
     "output_type": "execute_result"
    }
   ],
   "source": [
    "img_plak0[0].shape"
   ]
  },
  {
   "cell_type": "code",
   "execution_count": 27,
   "metadata": {},
   "outputs": [],
   "source": [
    "s = 90 - (np.sum(img_plak0 , axis=0,keepdims=True)/255)"
   ]
  },
  {
   "cell_type": "markdown",
   "metadata": {},
   "source": []
  },
  {
   "cell_type": "code",
   "execution_count": null,
   "metadata": {},
   "outputs": [],
   "source": [
    "print(s[0])\n"
   ]
  },
  {
   "cell_type": "code",
   "execution_count": 29,
   "metadata": {},
   "outputs": [
    {
     "data": {
      "image/png": "[encoded data removed]",
      "text/plain": [
       "<Figure size 640x480 with 1 Axes>"
      ]
     },
     "metadata": {},
     "output_type": "display_data"
    }
   ],
   "source": [
    "plt.close()\n",
    "plt.plot(s[0])\n",
    "plt.show()"
   ]
  },
  {
   "cell_type": "code",
   "execution_count": 30,
   "metadata": {},
   "outputs": [],
   "source": [
    "pelak = img_plak.copy()\n",
    "\n",
    "pelak = cv2.line(pelak, (158,0),(158,90),(0,0,200),2)\n",
    "cv2.imshow('ax',pelak)\n",
    "cv2.waitKey(0)\n",
    "cv2.destroyAllWindows()\n",
    "\n",
    "\n"
   ]
  },
  {
   "cell_type": "code",
   "execution_count": 52,
   "metadata": {},
   "outputs": [],
   "source": [
    "pelak = img_plak.copy()\n",
    "xi = 0\n",
    "flag1 = False \n",
    "flag2 = False\n",
    "xi1 = 0\n",
    "xi2 = 0\n",
    "img_ar = []\n",
    "for i in s[0]:\n",
    "    xi = xi+1\n",
    "\n",
    "    if i>9 and flag1==True and flag2==False:\n",
    "        \n",
    "        flag2 == True\n",
    "       \n",
    "    if i<5:\n",
    "        pelak = cv2.line(pelak, (xi,0),(xi,90),(0,0,255),1)\n",
    "        \n",
    "        if flag1==False:\n",
    "            xi1 = xi\n",
    "        if flag2==True:\n",
    "            xi2 = xi\n",
    "            flag2 = False\n",
    "            flag1 = False\n",
    "            img1 = img_plak[:,xi1:xi2]\n",
    "\n",
    "            x1 = np.empty((0,256))\n",
    "            im2 = cv2.resize(img1,(8,32))\n",
    "            im3 = cv2.cvtColor(im2 , cv2.COLOR_BGR2GRAY)\n",
    "            im4 = im3.flatten()\n",
    "            x1 = np.append(x1,[im4], axis=0)\n",
    "            natije = model.predict(x1)\n",
    "            print(natije)\n",
    "            \n",
    "            cv2.imshow('ax', img1)\n",
    "            cv2.waitKey(0)\n",
    "            cv2.destroyAllWindows\n",
    "\n",
    " \n",
    "            xi1 = xi2\n",
    "\n",
    "\n",
    "\n",
    "        flag1 = True\n",
    "\n",
    "\n",
    "  \n",
    "\n",
    "\n",
    "\n",
    "cv2.imshow('ax', pelak)\n",
    "cv2.waitKey(0)\n",
    "cv2.destroyAllWindows()   "
   ]
  },
  {
   "cell_type": "code",
   "execution_count": 49,
   "metadata": {},
   "outputs": [],
   "source": [
    "img1 = img_plak[:,0:50]"
   ]
  },
  {
   "cell_type": "code",
   "execution_count": 50,
   "metadata": {},
   "outputs": [
    {
     "data": {
      "text/plain": [
       "(90, 50, 3)"
      ]
     },
     "execution_count": 50,
     "metadata": {},
     "output_type": "execute_result"
    }
   ],
   "source": [
    "img1.shape"
   ]
  },
  {
   "cell_type": "code",
   "execution_count": 51,
   "metadata": {},
   "outputs": [],
   "source": [
    "cv2.imshow('ax', img1)\n",
    "cv2.waitKey(0)\n",
    "cv2.destroyAllWindows() "
   ]
  },
  {
   "cell_type": "code",
   "execution_count": null,
   "metadata": {},
   "outputs": [],
   "source": []
  }
 ],
 "metadata": {
  "kernelspec": {
   "display_name": "Python 3",
   "language": "python",
   "name": "python3"
  },
  "language_info": {
   "codemirror_mode": {
    "name": "ipython",
    "version": 3
   },
   "file_extension": ".py",
   "mimetype": "text/x-python",
   "name": "python",
   "nbconvert_exporter": "python",
   "pygments_lexer": "ipython3",
   "version": "3.8.8"
  }
 },
 "nbformat": 4,
 "nbformat_minor": 2
}
